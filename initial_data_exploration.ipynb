{
  "nbformat": 4,
  "nbformat_minor": 0,
  "metadata": {
    "colab": {
      "provenance": [],
      "toc_visible": true
    },
    "kernelspec": {
      "name": "python3",
      "display_name": "Python 3"
    },
    "language_info": {
      "name": "python"
    }
  },
  "cells": [
    {
      "cell_type": "markdown",
      "source": [
        "Initial Data Exploration"
      ],
      "metadata": {
        "id": "n21xqHfm4fxQ"
      }
    },
    {
      "cell_type": "code",
      "execution_count": null,
      "metadata": {
        "id": "3Dt4dgknoWnL"
      },
      "outputs": [],
      "source": [
        "import cv2\n",
        "import os\n",
        "import numpy as np"
      ]
    },
    {
      "cell_type": "markdown",
      "source": [
        "Loading Data"
      ],
      "metadata": {
        "id": "mDfKhj9d8mCF"
      }
    },
    {
      "cell_type": "code",
      "source": [
        "#Reading all the images into a numpy array\n",
        "images = []\n",
        "for file in os.listdir():\n",
        "  if file.endswith('.jpg'):\n",
        "    #if the file is an image\n",
        "    image_values = cv2.imread(file)\n",
        "\n",
        "    #resize the image into 360 x 480 pixels\n",
        "    image_values = cv2.resize(image_values,(360,480))\n",
        "\n",
        "    images.append(image_values)\n",
        "\n",
        "#storing everything in a numpy array\n",
        "images_array = np.array(images)"
      ],
      "metadata": {
        "id": "GDIySlf_4mp5"
      },
      "execution_count": null,
      "outputs": []
    },
    {
      "cell_type": "markdown",
      "source": [
        "Finding number of observations"
      ],
      "metadata": {
        "id": "FtWepnOn8n-u"
      }
    },
    {
      "cell_type": "code",
      "source": [
        "number_of_observations = len(images_array)\n",
        "number_of_observations"
      ],
      "metadata": {
        "colab": {
          "base_uri": "https://localhost:8080/"
        },
        "id": "IDxkKLpo8WNG",
        "outputId": "2fcf4c2b-1ee7-4e1f-884b-eb02a8336043"
      },
      "execution_count": null,
      "outputs": [
        {
          "output_type": "execute_result",
          "data": {
            "text/plain": [
              "489"
            ]
          },
          "metadata": {},
          "execution_count": 16
        }
      ]
    },
    {
      "cell_type": "markdown",
      "source": [
        "As we are working on a image dataset, we do not have any columns "
      ],
      "metadata": {
        "id": "nDGS2zhG8rXc"
      }
    },
    {
      "cell_type": "markdown",
      "source": [
        "Analzing how images are stored in python variables"
      ],
      "metadata": {
        "id": "_grOvEeE60J3"
      }
    },
    {
      "cell_type": "code",
      "source": [
        "images_array"
      ],
      "metadata": {
        "id": "ssGbDf8o41_f"
      },
      "execution_count": null,
      "outputs": []
    },
    {
      "cell_type": "code",
      "source": [
        "images_array[0].shape"
      ],
      "metadata": {
        "colab": {
          "base_uri": "https://localhost:8080/"
        },
        "id": "yPKaxQ4_65VN",
        "outputId": "8486ba6c-75f2-4740-f1b7-1ef1be09004b"
      },
      "execution_count": null,
      "outputs": [
        {
          "output_type": "execute_result",
          "data": {
            "text/plain": [
              "(480, 360, 3)"
            ]
          },
          "metadata": {},
          "execution_count": 13
        }
      ]
    },
    {
      "cell_type": "code",
      "source": [
        "images_array[0]"
      ],
      "metadata": {
        "colab": {
          "base_uri": "https://localhost:8080/"
        },
        "id": "q6KOs_RG7SrR",
        "outputId": "654599fc-730e-4ab4-ca8a-3601be4c3d52"
      },
      "execution_count": null,
      "outputs": [
        {
          "output_type": "execute_result",
          "data": {
            "text/plain": [
              "array([[[ 97, 109, 115],\n",
              "        [ 96, 108, 114],\n",
              "        [ 94, 106, 112],\n",
              "        ...,\n",
              "        [168, 182, 194],\n",
              "        [159, 173, 185],\n",
              "        [155, 169, 181]],\n",
              "\n",
              "       [[ 94, 106, 112],\n",
              "        [ 93, 105, 111],\n",
              "        [ 92, 104, 110],\n",
              "        ...,\n",
              "        [167, 180, 193],\n",
              "        [157, 171, 184],\n",
              "        [153, 167, 179]],\n",
              "\n",
              "       [[ 87,  99, 105],\n",
              "        [ 87,  99, 105],\n",
              "        [ 86,  98, 104],\n",
              "        ...,\n",
              "        [162, 176, 188],\n",
              "        [153, 167, 179],\n",
              "        [149, 163, 175]],\n",
              "\n",
              "       ...,\n",
              "\n",
              "       [[ 23,  43,  88],\n",
              "        [ 25,  47,  91],\n",
              "        [ 30,  53,  98],\n",
              "        ...,\n",
              "        [ 84, 108, 126],\n",
              "        [ 86, 111, 129],\n",
              "        [ 87, 113, 130]],\n",
              "\n",
              "       [[ 52,  74, 119],\n",
              "        [ 54,  77, 121],\n",
              "        [ 58,  82, 127],\n",
              "        ...,\n",
              "        [ 82, 106, 124],\n",
              "        [ 84, 109, 127],\n",
              "        [ 85, 111, 128]],\n",
              "\n",
              "       [[ 63,  86, 131],\n",
              "        [ 65,  88, 133],\n",
              "        [ 70,  94, 138],\n",
              "        ...,\n",
              "        [ 81, 106, 123],\n",
              "        [ 83, 108, 126],\n",
              "        [ 84, 110, 127]]], dtype=uint8)"
            ]
          },
          "metadata": {},
          "execution_count": 14
        }
      ]
    },
    {
      "cell_type": "markdown",
      "source": [
        "Here we can observe that the images are stored pixel wise as a 2d matrix where each element in the matrix is an array with 3 values in it. Those three values are RGB values(red green blue) of the pixel "
      ],
      "metadata": {
        "id": "kZunzWj07x6D"
      }
    },
    {
      "cell_type": "markdown",
      "source": [
        "There are no missing values"
      ],
      "metadata": {
        "id": "THvNMgjU9JoY"
      }
    },
    {
      "cell_type": "markdown",
      "source": [
        "All the pixel details in the image dataset are used as features for building our deep learning model"
      ],
      "metadata": {
        "id": "ss3_27qG870l"
      }
    },
    {
      "cell_type": "markdown",
      "source": [
        "Target column: Our model wil be creating new face images by taking inspiration from the images we feed it. We also train a discriminator which identifies whether an image is a real one or generated one"
      ],
      "metadata": {
        "id": "cZYINTxs9Sln"
      }
    },
    {
      "cell_type": "markdown",
      "source": [
        "**Steps to be performed in the project**"
      ],
      "metadata": {
        "id": "Gh3nx_fC9ssy"
      }
    },
    {
      "cell_type": "markdown",
      "source": [
        "* We will be loading the dataset into numpy arrays. \n",
        "* We will preprocess the images like fitting its resolution. \n",
        "* We will be creating a GAN model and training it with the dataset I loaded. \n",
        "* We will be training a discriminator that can filter whether an image is real or generated\n",
        "* Hyper parameter tuning will be performed\n",
        "* We will be creating new images using the generator.\n",
        "* For evaluation purpose, we will be taking a model available on internet to predict if generated image is a human face or not\n",
        "\n",
        "\n"
      ],
      "metadata": {
        "id": "7kBr_eho9zLN"
      }
    }
  ]
}